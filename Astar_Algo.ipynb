{
  "cells": [
    {
      "cell_type": "markdown",
      "metadata": {
        "id": "dB4_y4GBm0tt"
      },
      "source": [
        "# A-Star Search Algorithm"
      ]
    },
    {
      "cell_type": "markdown",
      "metadata": {
        "id": "hRmWMPwTm5Ob"
      },
      "source": [
        "This notebook complements the walkthrough article [here](https://towardsdatascience.com/a-star-a-search-algorithm-eb495fb156bb) on the A-Star search algorithm. Throughout the notebook, we ask to you finish sections on your own and answer questions."
      ]
    },
    {
      "cell_type": "markdown",
      "metadata": {
        "id": "auBnTGWHoMle"
      },
      "source": [
        "## [Question - Describe A*]\n",
        "A* algorithm is a search algorithm, used to find the shortest path between two nodes or graph. It uses information about path cost\n",
        "and also uses trial and error methods to find the solution. A* achieve optimality and completeness."
      ]
    },
    {
      "cell_type": "markdown",
      "metadata": {
        "id": "FsP7pSLAoooN"
      },
      "source": [
        "## [Question - Describe h and g]\n",
        "In A* search, describe the two key elements of *f(n)* (namely *h(n)* and *g(n)*). What do they represent in the algorithm and how do they differ?\n",
        "\n",
        "<b>Ans:</b> \n",
        "In A* search algorithm at each step it picks the node or graph according to the value of f, which is the sum of two parameters h and g. At each steps it picks the node or graph with the lowest *'f'* value and process that node.\n",
        "*g(n)*: This represents the exact numerical value  of the path from the starting node to any node *n*.\n",
        "*h(n)*: This represents the estimated numerical value of the path from a given square on the grid to the final node *n*.\n",
        "\n",
        "*f(n) = g(n) + h(n)*\n",
        "\n",
        "The main difference between *h(n) and g(n)* is *h(n)* is heuristics function and *g(n)* is the past knowledge acquired while searching."
      ]
    },
    {
      "cell_type": "markdown",
      "metadata": {
        "id": "-_VkEgNWuMDK"
      },
      "source": [
        "## [Activity - run Node]\n",
        "Examine and run the below code."
      ]
    },
    {
      "cell_type": "code",
      "execution_count": 30,
      "metadata": {
        "id": "ufRvBVJBmmxA"
      },
      "outputs": [],
      "source": [
        "class Node():\n",
        "    \"\"\"A node class for A* Pathfinding\"\"\"\n",
        "\n",
        "    def __init__(self, parent=None, position=None):\n",
        "        self.parent = parent\n",
        "        self.position = position\n",
        "\n",
        "        self.g = 0\n",
        "        self.h = 0\n",
        "        self.f = 0\n",
        "\n",
        "    def __eq__(self, other):\n",
        "        return self.position == other.position"
      ]
    },
    {
      "cell_type": "markdown",
      "metadata": {
        "id": "Ucsmb_lfuTrp"
      },
      "source": [
        "## [Question - Explain 'Node']\n",
        "In your own words, describe what the purpose of the *Node* class is. Why do we have to initialize a parent and a position?\n",
        "\n",
        "<b>Ans:</b>\n",
        "Node class in A* Algorithm represents a point in the search space. It also corresponds to a position on grid that algorithm will evaluate as a part of finding the optimal path between starting point and the destination. Node stores both the <b><i>position information</b></i> and <b><i>path related cost.</b></i>\n",
        "\n",
        "<b>Why do we have to initialize a parent and a position?</b>\n",
        "\n",
        "<b>PARENT</b>: <p>1. Each node is reached from the previous node. <p>2. Keeping track of the parent node helps to retrace the steps once the path is found.<p>\n",
        "<b>POSITION</b>:<p>1. The position node helps the algorithm to tell where the node is in search space.<p>2. Position helps to determine whether the node is the goal and it is also used to calcualte the movement cost and decides which node to explore next.\n"
      ]
    },
    {
      "cell_type": "markdown",
      "metadata": {
        "id": "B6s0TVMuur8t"
      },
      "source": [
        "## [Activity - Run astar() ]"
      ]
    },
    {
      "cell_type": "code",
      "execution_count": 47,
      "metadata": {
        "id": "wYzrkdjZpxZs"
      },
      "outputs": [],
      "source": [
        "def astar(maze, start, end):\n",
        "    \"\"\"Returns a list of tuples as a path from the given start to the given end in the given maze\"\"\"\n",
        "\n",
        "    # Create start and end node\n",
        "    start_node = Node(None, start)\n",
        "    start_node.g = start_node.h = start_node.f = 0\n",
        "    end_node = Node(None, end)\n",
        "    end_node.g = end_node.h = end_node.f = 0\n",
        "\n",
        "    # Initialize both open and closed list\n",
        "    open_list = []\n",
        "    closed_list = []\n",
        "\n",
        "    # Add the start node\n",
        "    open_list.append(start_node)\n",
        "\n",
        "    # Loop until you find the end\n",
        "    while len(open_list) > 0:\n",
        "\n",
        "        # Get the current node\n",
        "        current_node = open_list[0]\n",
        "        current_index = 0\n",
        "        for index, item in enumerate(open_list):\n",
        "            if item.f < current_node.f:\n",
        "                current_node = item\n",
        "                current_index = index\n",
        "\n",
        "        # Pop current off open list, add to closed list\n",
        "        open_list.pop(current_index)\n",
        "        closed_list.append(current_node)\n",
        "\n",
        "        # Found the goal\n",
        "        if current_node == end_node:\n",
        "            path = []\n",
        "            current = current_node\n",
        "            while current is not None:\n",
        "                path.append(current.position)\n",
        "                current = current.parent\n",
        "            return path[::-1] # Return reversed path\n",
        "\n",
        "        # Generate children\n",
        "        children = []\n",
        "        for new_position in [(0, -1), (0, 1), (-1, 0), (1, 0), (-1, -1), (-1, 1), (1, -1), (1, 1)]: # Adjacent squares\n",
        "\n",
        "            # Get node position\n",
        "            node_position = (current_node.position[0] + new_position[0], current_node.position[1] + new_position[1])\n",
        "\n",
        "            # Make sure within range\n",
        "            if node_position[0] > (len(maze) - 1) or node_position[0] < 0 or node_position[1] > (len(maze[len(maze)-1]) -1) or node_position[1] < 0:\n",
        "                continue\n",
        "\n",
        "            # Make sure walkable terrain\n",
        "            if maze[node_position[0]][node_position[1]] != 0:\n",
        "                continue\n",
        "\n",
        "            # Create new node\n",
        "            new_node = Node(current_node, node_position)\n",
        "\n",
        "            # Append\n",
        "            children.append(new_node)\n",
        "\n",
        "        # Loop through children\n",
        "        for child in children:\n",
        "\n",
        "            # Child is on the closed list\n",
        "            if child in closed_list:\n",
        "              continue\n",
        "\n",
        "            # Create the f, g, and h values\n",
        "            child.g = current_node.g + 1\n",
        "            child.h = ((child.position[0] - end_node.position[0]) ** 2) + ((child.position[1] - end_node.position[1]) ** 2)\n",
        "            child.f = child.g + child.h\n",
        "\n",
        "            # Child is already in the open list\n",
        "            for open_node in open_list:\n",
        "                if child == open_node and child.g > open_node.g:\n",
        "                    continue\n",
        "\n",
        "            # Add the child to the open list\n",
        "            open_list.append(child)\n",
        "\n",
        "    # To return an empty list if no path is found in the algorithm\n",
        "    return[]    \n"
      ]
    },
    {
      "cell_type": "markdown",
      "metadata": {
        "id": "hral7UX2vF0z"
      },
      "source": [
        "## [Question - Explain maze]\n",
        "What type of input should value of *maze* be?\n",
        "<p><b>Ans:</b> The maze should be a 2D grid for e.g. 5x5 array. "
      ]
    },
    {
      "cell_type": "code",
      "execution_count": 48,
      "metadata": {},
      "outputs": [
        {
          "name": "stdout",
          "output_type": "stream",
          "text": [
            "Help on class maze in module pyamaze.pyamaze:\n",
            "\n",
            "class maze(builtins.object)\n",
            " |  maze(rows=10, cols=10)\n",
            " |  \n",
            " |  This is the main class to create maze.\n",
            " |  \n",
            " |  Methods defined here:\n",
            " |  \n",
            " |  CreateMaze(self, x=1, y=1, pattern=None, loopPercent=0, saveMaze=False, loadMaze=None, theme: pyamaze.pyamaze.COLOR = <COLOR.dark: ('gray11', 'white')>)\n",
            " |      One very important function to create a Random Maze\n",
            " |      pattern-->  It can be 'v' for vertical or 'h' for horizontal\n",
            " |                  Just the visual look of the maze will be more vertical/horizontal\n",
            " |                  passages will be there.\n",
            " |      loopPercent-->  0 means there will be just one path from start to goal (perfect maze)\n",
            " |                      Higher value means there will be multiple paths (loops)\n",
            " |                      Higher the value (max 100) more will be the loops\n",
            " |      saveMaze--> To save the generated Maze as CSV file for future reference.\n",
            " |      loadMaze--> Provide the CSV file to generate a desried maze\n",
            " |      theme--> Dark or Light\n",
            " |  \n",
            " |  __init__(self, rows=10, cols=10)\n",
            " |      rows--> No. of rows of the maze\n",
            " |      cols--> No. of columns of the maze\n",
            " |      Need to pass just the two arguments. The rest will be assigned automatically\n",
            " |      maze_map--> Will be set to a Dicationary. Keys will be cells and\n",
            " |                  values will be another dictionary with keys=['E','W','N','S'] for\n",
            " |                  East West North South and values will be 0 or 1. 0 means that \n",
            " |                  direction(EWNS) is blocked. 1 means that direction is open.\n",
            " |      grid--> A list of all cells\n",
            " |      path--> Shortest path from start(bottom right) to goal(by default top left)\n",
            " |              It will be a dictionary\n",
            " |      _win,_cell_width,_canvas -->    _win and )canvas are for Tkinter window and canvas\n",
            " |                                      _cell_width is cell width calculated automatically\n",
            " |      _agents-->  A list of aganets on the maze\n",
            " |      markedCells-->  Will be used to mark some particular cell during\n",
            " |                      path trace by the agent.\n",
            " |      _\n",
            " |  \n",
            " |  enableArrowKey(self, a)\n",
            " |      To control an agent a with Arrow Keys\n",
            " |  \n",
            " |  enableWASD(self, a)\n",
            " |      To control an agent a with keys W,A,S,D\n",
            " |  \n",
            " |  run(self)\n",
            " |      Finally to run the Tkinter Main Loop\n",
            " |  \n",
            " |  tracePath(self, d, kill=False, delay=300, showMarked=False)\n",
            " |      A method to trace path by agent\n",
            " |      You can provide more than one agent/path details\n",
            " |  \n",
            " |  ----------------------------------------------------------------------\n",
            " |  Data descriptors defined here:\n",
            " |  \n",
            " |  __dict__\n",
            " |      dictionary for instance variables (if defined)\n",
            " |  \n",
            " |  __weakref__\n",
            " |      list of weak references to the object (if defined)\n",
            " |  \n",
            " |  grid\n",
            "\n"
          ]
        }
      ],
      "source": [
        "from pyamaze import maze\n",
        "help(maze)"
      ]
    },
    {
      "cell_type": "markdown",
      "metadata": {
        "id": "EcB70Wbet1-w"
      },
      "source": [
        "## [Question - Build Main]\n",
        "Please use the above code that uses the astar() function to define a path from the beginning to the end of a maze. You can choose how the maze looks and where the start and end are."
      ]
    },
    {
      "cell_type": "code",
      "execution_count": 49,
      "metadata": {
        "id": "MY8tTsSbt1XE"
      },
      "outputs": [
        {
          "name": "stdout",
          "output_type": "stream",
          "text": [
            "['P', 1, 0, 0, 0]\n",
            "['P', 1, 0, 1, 0]\n",
            "[0, 'P', 'P', 1, 0]\n",
            "[0, 1, 1, 'P', 0]\n",
            "[0, 0, 0, 0, 'P']\n"
          ]
        }
      ],
      "source": [
        "maze = [\n",
        "    [0, 1, 0, 0, 0],\n",
        "    [0, 1, 0, 1, 0],\n",
        "    [0, 0, 0, 1, 0],\n",
        "    [0, 1, 1, 0, 0],\n",
        "    [0, 0, 0, 0, 0]\n",
        "]\n",
        "start = (4, 4)\n",
        "end = (0, 0)\n",
        "\n",
        "path = astar(maze, start, end)\n",
        "\n",
        "for fwdstep in path:\n",
        "    maze[fwdstep[0]][fwdstep[1]] = 'P'\n",
        "\n",
        "for row in maze:\n",
        "    print(row)"
      ]
    },
    {
      "cell_type": "markdown",
      "metadata": {
        "id": "_t_M9LWSwc79"
      },
      "source": [
        "## [Question - Impossible Maze]\n",
        "Now create a maze that the algorithm cannot solve. What is the output of the algorithm?<p>\n",
        "<b>Ans:</b> A maze that the algorithm cannot solve would be a maze where the start point or the end point is completely seperated by walls so that there is no possible path from start to end.<p>So in the below code I gave start path as *(4,0)* and end as *(0,0)* and blocked the start path with walls i.e. <b>*1*</b> and in the astar function I updated code to handle <b>No Path</b>, to return an empty list if no path is found.<p>So if the *open_list* becomes empty before the end node is found, it means there is no path to the end, and the algorithm returns [].\n",
        "The output when running the A* algorithm on this unsolvable maze would be an empty list"
      ]
    },
    {
      "cell_type": "code",
      "execution_count": 50,
      "metadata": {
        "id": "yoQ3fuVbwnuv"
      },
      "outputs": [
        {
          "name": "stdout",
          "output_type": "stream",
          "text": [
            "[]\n"
          ]
        }
      ],
      "source": [
        "maze = [\n",
        "    [0, 1, 1, 1, 1], \n",
        "    [0, 1, 0, 0, 0],\n",
        "    [0, 1, 0, 1, 0],\n",
        "    [1, 1, 0, 1, 0],\n",
        "    [0, 1, 0, 1, 0]\n",
        "]\n",
        "start = (4, 0)  \n",
        "end = (0, 0)    \n",
        "\n",
        "path = astar(maze, start, end)\n",
        "print(path)"
      ]
    }
  ],
  "metadata": {
    "colab": {
      "collapsed_sections": [],
      "name": "eai6000-m02-hw.ipynb",
      "provenance": [],
      "toc_visible": true
    },
    "kernelspec": {
      "display_name": "Python 3",
      "name": "python3"
    },
    "language_info": {
      "codemirror_mode": {
        "name": "ipython",
        "version": 3
      },
      "file_extension": ".py",
      "mimetype": "text/x-python",
      "name": "python",
      "nbconvert_exporter": "python",
      "pygments_lexer": "ipython3",
      "version": "3.11.4"
    }
  },
  "nbformat": 4,
  "nbformat_minor": 0
}
